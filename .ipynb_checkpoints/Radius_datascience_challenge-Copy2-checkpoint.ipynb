{
 "cells": [
  {
   "cell_type": "markdown",
   "metadata": {
    "deletable": true,
    "editable": true
   },
   "source": [
    "***JSON File details***\n",
    "\n",
    "The file here contains a list of businesses which are fairly representative of data we get from our external data providers. Each business has the following fields:\n",
    "\n",
    "* **name**: The name of the business\n",
    "* **address**: The street address of the business\n",
    "* **city**: The city the business is in\n",
    "* **zip**: The businesses zip code\n",
    "* **time_in_business**: The years the company has been in business\n",
    "* **phone**: The businesses phone number\n",
    "* **category_code**: The NAICS code for the business\n",
    "* **headcount**: The number of people employed by the business\n",
    "* **revenue**: The revenue (in thousands) of the business"
   ]
  },
  {
   "cell_type": "code",
   "execution_count": null,
   "metadata": {
    "collapsed": false,
    "deletable": true,
    "editable": true
   },
   "outputs": [],
   "source": [
    "import colorlover as cl\n",
    "import cufflinks as cf\n",
    "import folium\n",
    "import googlemaps as gm\n",
    "from IPython.display import display\n",
    "import json\n",
    "import logging\n",
    "import numpy as np\n",
    "import math\n",
    "import operator\n",
    "import os\n",
    "import pandas as pd\n",
    "from pandasql import *\n",
    "from pandasql import sqldf\n",
    "import plotly\n",
    "import plotly.plotly as py\n",
    "import plotly.graph_objs as go\n",
    "from plotly import tools\n",
    "import random\n",
    "from smartystreets import Client\n",
    "from sklearn import preprocessing\n",
    "from uszipcode import ZipcodeSearchEngine\n",
    "%matplotlib inline\n",
    "import matplotlib\n",
    "matplotlib.style.use('ggplot')\n",
    "import matplotlib.pyplot as plt"
   ]
  },
  {
   "cell_type": "code",
   "execution_count": null,
   "metadata": {
    "collapsed": false,
    "deletable": true,
    "editable": true
   },
   "outputs": [],
   "source": [
    "# Settings for viewing dataframes on Jupyter Notebook\n",
    "pd.set_option('display.max_rows', None)\n",
    "pd.set_option('display.max_columns', None)\n",
    "#pd.options.display.mpl_style = 'default'\n",
    "# Setting offline mode for plotly\n",
    "plotly.offline.init_notebook_mode()\n",
    "cf.set_config_file(offline=False, world_readable=True, theme='ggplot')"
   ]
  },
  {
   "cell_type": "code",
   "execution_count": null,
   "metadata": {
    "collapsed": true,
    "deletable": true,
    "editable": true
   },
   "outputs": [],
   "source": [
    "with open('../smartystreets_new.json') as file:\n",
    "    jdata = json.load(file)\n",
    "AUTH_ID = jdata['authid']\n",
    "AUTH_TOKEN = jdata['authtoken']\n",
    "client = Client(AUTH_ID, AUTH_TOKEN)"
   ]
  },
  {
   "cell_type": "code",
   "execution_count": null,
   "metadata": {
    "collapsed": true,
    "deletable": true,
    "editable": true
   },
   "outputs": [],
   "source": [
    "with open('../googleapi.json') as file:\n",
    "    google_key = json.load(file)\n",
    "gmaps = gm.Client(key=google_key['key'])"
   ]
  },
  {
   "cell_type": "code",
   "execution_count": null,
   "metadata": {
    "collapsed": true,
    "deletable": true,
    "editable": true
   },
   "outputs": [],
   "source": [
    "pysqldf = lambda q: sqldf(q, globals())"
   ]
  },
  {
   "cell_type": "code",
   "execution_count": null,
   "metadata": {
    "collapsed": false,
    "deletable": true,
    "editable": true
   },
   "outputs": [],
   "source": [
    "search = ZipcodeSearchEngine()"
   ]
  },
  {
   "cell_type": "code",
   "execution_count": null,
   "metadata": {
    "collapsed": true,
    "deletable": true,
    "editable": true
   },
   "outputs": [],
   "source": [
    "business_df = pd.read_json('./data_analysis.json')"
   ]
  },
  {
   "cell_type": "code",
   "execution_count": null,
   "metadata": {
    "collapsed": false,
    "deletable": true,
    "editable": true
   },
   "outputs": [],
   "source": [
    "print('Total number of rows or data points in the data')\n",
    "print(len(business_df))"
   ]
  },
  {
   "cell_type": "code",
   "execution_count": null,
   "metadata": {
    "collapsed": false,
    "deletable": true,
    "editable": true
   },
   "outputs": [],
   "source": [
    "print('Columns in the dataframe')\n",
    "print('')\n",
    "print(business_df.columns.tolist())"
   ]
  },
  {
   "cell_type": "code",
   "execution_count": null,
   "metadata": {
    "collapsed": false,
    "deletable": true,
    "editable": true
   },
   "outputs": [],
   "source": [
    "print('Displaying the first 5 rows of the data to see how it looks')\n",
    "print('')\n",
    "display(business_df.head())"
   ]
  },
  {
   "cell_type": "code",
   "execution_count": null,
   "metadata": {
    "collapsed": false,
    "deletable": true,
    "editable": true
   },
   "outputs": [],
   "source": [
    "business_df.info()"
   ]
  },
  {
   "cell_type": "code",
   "execution_count": null,
   "metadata": {
    "collapsed": false,
    "deletable": true,
    "editable": true
   },
   "outputs": [],
   "source": [
    "print('Some statistics of the data accross the columns')\n",
    "print('')\n",
    "business_data_eda = business_df.describe()\n",
    "display(business_data_eda)"
   ]
  },
  {
   "cell_type": "code",
   "execution_count": null,
   "metadata": {
    "collapsed": false,
    "deletable": true,
    "editable": true
   },
   "outputs": [],
   "source": [
    "#Checking if there are any duplicates in the rows.\n",
    "business_df.duplicated(subset=None, keep='first').sum()"
   ]
  },
  {
   "cell_type": "markdown",
   "metadata": {
    "deletable": true,
    "editable": true
   },
   "source": [
    "From the above table there are some interesting things to note about the data.\n",
    "The index 'top' provides the value of the most frequently occuring value in each of the features or columns. While the 'freq' index provides the number of thos most commony occuring value which we saw in 'top'. \n",
    "\n",
    "The favorite city for the business seems to be New York, though the state seems to California. This suggests that businesses in California state may be spread out rather than concentrated one city within the state.\n",
    "\n",
    "Out of the 943092 companies which have specified "
   ]
  },
  {
   "cell_type": "code",
   "execution_count": null,
   "metadata": {
    "collapsed": false,
    "deletable": true,
    "editable": true
   },
   "outputs": [],
   "source": [
    "print('For each of the columns the total number of rows with')\n",
    "print('missing data')\n",
    "business_df.isnull().sum()"
   ]
  },
  {
   "cell_type": "code",
   "execution_count": null,
   "metadata": {
    "collapsed": false,
    "deletable": true,
    "editable": true
   },
   "outputs": [],
   "source": [
    "#Number of rows with all the columns having \"no data\", null or nans\n",
    "idx = business_df.index[business_df.isnull().all(1)]\n",
    "nans = business_df.iloc[idx]\n",
    "nans"
   ]
  },
  {
   "cell_type": "code",
   "execution_count": null,
   "metadata": {
    "collapsed": false,
    "deletable": true,
    "editable": true
   },
   "outputs": [],
   "source": [
    "count_per_column = business_data_eda.loc['count'].sort_values()\n",
    "#count_per_column.iplot?\n",
    "count_per_column.iplot(kind='bar', \n",
    "                       yTitle='Number of records with value', \n",
    "                       title='Fill Rate')"
   ]
  },
  {
   "cell_type": "markdown",
   "metadata": {
    "deletable": true,
    "editable": true
   },
   "source": [
    "True-Valued Fill Rate"
   ]
  },
  {
   "cell_type": "code",
   "execution_count": null,
   "metadata": {
    "collapsed": false,
    "deletable": true,
    "editable": true
   },
   "outputs": [],
   "source": [
    "time_in_business = business_df['time_in_business'].unique().tolist()\n",
    "time_in_business"
   ]
  },
  {
   "cell_type": "code",
   "execution_count": null,
   "metadata": {
    "collapsed": false,
    "deletable": true,
    "editable": true
   },
   "outputs": [],
   "source": [
    "revenue= business_df['revenue'].unique().tolist()\n",
    "revenue"
   ]
  },
  {
   "cell_type": "code",
   "execution_count": null,
   "metadata": {
    "collapsed": false,
    "deletable": true,
    "editable": true
   },
   "outputs": [],
   "source": [
    "headcount = business_df['headcount'].unique().tolist()\n",
    "headcount"
   ]
  },
  {
   "cell_type": "code",
   "execution_count": null,
   "metadata": {
    "collapsed": true,
    "deletable": true,
    "editable": true
   },
   "outputs": [],
   "source": [
    "def isanumber(a):\n",
    "    try:\n",
    "        float(repr(a))\n",
    "        bool_a = True\n",
    "    except:\n",
    "        bool_a = False\n",
    "    return bool_a\n",
    "\n",
    "def filter_func(value):    \n",
    "    if not value or isanumber(value) or value.isspace():\n",
    "        return False\n",
    "    if value.isalnum():\n",
    "        if value in ['none','null','0']: return False\n",
    "    return True\n",
    "\n",
    "business_bool_df = business_df.applymap(filter_func)"
   ]
  },
  {
   "cell_type": "code",
   "execution_count": null,
   "metadata": {
    "collapsed": true,
    "deletable": true,
    "editable": true
   },
   "outputs": [],
   "source": [
    "business_fil = business_df.where(business_bool_df==True)"
   ]
  },
  {
   "cell_type": "code",
   "execution_count": null,
   "metadata": {
    "collapsed": true,
    "deletable": true,
    "editable": true
   },
   "outputs": [],
   "source": [
    "business_fil_desc = business_fil.describe()"
   ]
  },
  {
   "cell_type": "code",
   "execution_count": null,
   "metadata": {
    "collapsed": false,
    "deletable": true,
    "editable": true
   },
   "outputs": [],
   "source": [
    "count_col_fil = business_fil_desc.loc['count'].sort_values()\n",
    "count_col_fil.iplot(kind='bar', \n",
    "                    yTitle='Number of records with value', \n",
    "                    title='True-Valued Fill Rate', color='#12550D')"
   ]
  },
  {
   "cell_type": "markdown",
   "metadata": {
    "deletable": true,
    "editable": true
   },
   "source": [
    "Cardinality:\n"
   ]
  },
  {
   "cell_type": "code",
   "execution_count": null,
   "metadata": {
    "collapsed": false,
    "deletable": true,
    "editable": true
   },
   "outputs": [],
   "source": [
    "cols = business_fil_desc.columns.tolist()\n",
    "color_list = cl.scales[str(len(cols))]['div']['Spectral']\n",
    "cardinality = sorted(business_fil_desc.loc['unique'])"
   ]
  },
  {
   "cell_type": "code",
   "execution_count": null,
   "metadata": {
    "collapsed": false,
    "deletable": true,
    "editable": true
   },
   "outputs": [],
   "source": [
    "data = [go.Bar(x=cols,\n",
    "            y=cardinality,\n",
    "            marker=dict(\n",
    "            color=color_list))]\n",
    "annotations = [dict(\n",
    "                x=xi,\n",
    "                y=yi,\n",
    "                text=str(yi),\n",
    "                xanchor='top',\n",
    "                yanchor='top',\n",
    "                showarrow=False,\n",
    "            ) for xi, yi in zip(cols, cardinality)]\n",
    "layout = go.Layout(\n",
    "    annotations = annotations,\n",
    "    title='Cardinality of each feature' ,\n",
    "    yaxis=dict(\n",
    "        title='Count of the Unique values',\n",
    "        titlefont=dict(\n",
    "            family='Arial',\n",
    "            size=18,\n",
    "            color='#ff6600'\n",
    "            \n",
    "        ),\n",
    "        \n",
    "    ),\n",
    "\n",
    "    margin=go.Margin(\n",
    "                    l=120,\n",
    "                    pad=4\n",
    "                    )\n",
    ")\n",
    "\n",
    "fig = go.Figure(data=data, layout=layout)\n",
    "fig['layout'].update(width=800, height=1000)\n",
    "plotly.offline.iplot(fig)"
   ]
  },
  {
   "cell_type": "code",
   "execution_count": null,
   "metadata": {
    "collapsed": false,
    "deletable": true,
    "editable": true
   },
   "outputs": [],
   "source": [
    "# def make_hex_colors(num_of_colors):\n",
    "#     r = lambda: random.randint(0,255)\n",
    "#     lst = list(range(num_of_colors))\n",
    "#     return list(map(lambda x: '#{:02x}{:02x}{:02x}'.format(r(),r(),r()), lst))\n",
    "\n",
    "# Define an annotation-generating function\n",
    "\n",
    "def make_annotation(x, y, text, xanchor, yanchor):\n",
    "    return dict(\n",
    "        text=text,     # text is the y-coord\n",
    "        showarrow=False, # annotation w/o arrows, default is True\n",
    "        x=x,               # set x position\n",
    "        xref='x',          # position text horizontally with x-coords\n",
    "        xanchor= xanchor,  # x position corresp. to center of text\n",
    "        yref='y',            # set y position \n",
    "        yanchor=  yanchor,       # position text vertically with y-coords\n",
    "        y=y,                 # y position corresp. to top of text\n",
    "    )\n",
    "\n",
    "most_freq_percetage = (business_fil_desc.ix['freq']/len(business_fil)*100).values\n",
    "most_freq_value = business_fil_desc.ix['top'].values.tolist()\n",
    "most_freq_zipped_list = list(zip(most_freq_percetage, cols, most_freq_value))\n",
    "srt_list = sorted(most_freq_zipped_list, key = operator.itemgetter(0))\n",
    "most_freq_percetage, cols, most_freq_value = zip(*srt_list)\n",
    "most_freq_percetage = list(map(lambda x:\"{0:.4f}%\".format(np.round(x,4)), \n",
    "                               most_freq_percetage))\n",
    "\n",
    "\n",
    "annotations = (\n",
    "    [make_annotation(x, y, \"'\"+str(t)+\"'\", 'left', 'center') \n",
    "     for x, y, t in zip(most_freq_percetage, cols, most_freq_value)] \n",
    ")\n",
    "\n",
    "data = [go.Bar(\n",
    "            x=most_freq_percetage,\n",
    "            y=cols,\n",
    "            orientation = 'h',\n",
    "            marker=dict(\n",
    "            color=color_list)\n",
    "        )]\n",
    "\n",
    "layout = go.Layout(\n",
    "    annotations=annotations,\n",
    "    title='Percentage of most common value in each of the columns' + \n",
    "    '<br>' + 'out of all the data points',\n",
    "    xaxis=dict(\n",
    "        title='Percentage',\n",
    "        titlefont=dict(\n",
    "            family='Courier New, monospace',\n",
    "            size=18,\n",
    "            color='#ff6600'\n",
    "            \n",
    "        ),\n",
    "        \n",
    "    ),\n",
    "\n",
    "    margin=go.Margin(\n",
    "                    l=120,\n",
    "                    pad=4\n",
    "                    )\n",
    ")\n",
    "\n",
    "fig = go.Figure(data=data, layout=layout)\n",
    "fig['layout'].update(width=1200, height=500)\n",
    "py.iplot(fig, filename='pandas-horizontal-bar')"
   ]
  },
  {
   "cell_type": "code",
   "execution_count": null,
   "metadata": {
    "collapsed": false,
    "deletable": true,
    "editable": true
   },
   "outputs": [],
   "source": [
    "%%time\n",
    "business_fil['complete_address'] = business_fil['address'] + ' ' + business_fil['city'] + \\\n",
    "                                   ' ' + business_fil['state'] #+ ' ' + business_fil['zip'].fillna('')"
   ]
  },
  {
   "cell_type": "code",
   "execution_count": null,
   "metadata": {
    "collapsed": true,
    "deletable": true,
    "editable": true
   },
   "outputs": [],
   "source": [
    "def get_zip_code(add):\n",
    "    if add:\n",
    "        address = client.street_address(add)\n",
    "        if address:\n",
    "            return address['components']['zipcode']\n",
    "        else: return None\n",
    "    else:\n",
    "        return None"
   ]
  },
  {
   "cell_type": "code",
   "execution_count": null,
   "metadata": {
    "collapsed": false,
    "deletable": true,
    "editable": true
   },
   "outputs": [],
   "source": [
    "business_fil['zip'] = business_fil[['complete_address','zip']].\\\n",
    "                      apply(lambda x: x['zip'] if(np.all(pd.notnull(x['zip']))) \\\n",
    "                            else get_zip_code(x['complete_address']), axis = 1)\n",
    "\n",
    "business_fil.head()"
   ]
  },
  {
   "cell_type": "code",
   "execution_count": null,
   "metadata": {
    "collapsed": false,
    "deletable": true,
    "editable": true
   },
   "outputs": [],
   "source": [
    "business_fil.head()"
   ]
  },
  {
   "cell_type": "code",
   "execution_count": null,
   "metadata": {
    "collapsed": true,
    "deletable": true,
    "editable": true
   },
   "outputs": [],
   "source": [
    "business_fil.to_pickle('./data_changed.pkl')"
   ]
  },
  {
   "cell_type": "code",
   "execution_count": null,
   "metadata": {
    "collapsed": true,
    "deletable": true,
    "editable": true
   },
   "outputs": [],
   "source": [
    "new_business_df = pd.read_pickle('./data_changed.pkl')"
   ]
  },
  {
   "cell_type": "code",
   "execution_count": null,
   "metadata": {
    "collapsed": false,
    "deletable": true,
    "editable": true
   },
   "outputs": [],
   "source": [
    "new_business_df['complete_address'] = new_business_df['complete_address'] + ' ' + new_business_df['zip'].fillna('')\n",
    "new_business_df.head()"
   ]
  },
  {
   "cell_type": "code",
   "execution_count": null,
   "metadata": {
    "collapsed": false,
    "deletable": true,
    "editable": true
   },
   "outputs": [],
   "source": [
    "len(new_business_df_1.index[new_business_df_1[['state']].isnull().all(1)])"
   ]
  },
  {
   "cell_type": "code",
   "execution_count": null,
   "metadata": {
    "collapsed": false,
    "deletable": true,
    "editable": true
   },
   "outputs": [],
   "source": [
    "len(new_business_df.index[new_business_df[['zip','state']].isnull().all(1)])"
   ]
  },
  {
   "cell_type": "code",
   "execution_count": null,
   "metadata": {
    "collapsed": true,
    "deletable": true,
    "editable": true
   },
   "outputs": [],
   "source": [
    "def get_state_from_zip(zipcode):\n",
    "    if zipcode:\n",
    "        details = search.by_zipcode(zipcode)\n",
    "        if details: return details['State']\n",
    "    return None"
   ]
  },
  {
   "cell_type": "code",
   "execution_count": null,
   "metadata": {
    "collapsed": false,
    "deletable": true,
    "editable": true
   },
   "outputs": [],
   "source": [
    "new_business_df['state'] = new_business_df[['state','zip']].\\\n",
    "                      apply(lambda x: x['state'] if pd.notnull(x['state']) \\\n",
    "                            else get_state_from_zip(x['zip']), axis = 1)"
   ]
  },
  {
   "cell_type": "code",
   "execution_count": null,
   "metadata": {
    "collapsed": false,
    "deletable": true,
    "editable": true
   },
   "outputs": [],
   "source": [
    "new_business_df.to_pickle('./data_changed_v1.pkl')"
   ]
  },
  {
   "cell_type": "code",
   "execution_count": null,
   "metadata": {
    "collapsed": true,
    "deletable": true,
    "editable": true
   },
   "outputs": [],
   "source": [
    "new_business_df_1 = pd.read_pickle('./data_changed_v1.pkl')"
   ]
  },
  {
   "cell_type": "code",
   "execution_count": null,
   "metadata": {
    "collapsed": true,
    "deletable": true,
    "editable": true
   },
   "outputs": [],
   "source": [
    "query1 = \"\"\"\n",
    "SELECT a.state,\n",
    "       count(a.state) count \n",
    "FROM new_business_df_1 a \n",
    "where a.state is not null\n",
    "group by a.state\n",
    "order by a.state\n",
    "\"\"\""
   ]
  },
  {
   "cell_type": "code",
   "execution_count": null,
   "metadata": {
    "collapsed": false,
    "deletable": true,
    "editable": true
   },
   "outputs": [],
   "source": [
    "count_per_state = pysqldf(query1)"
   ]
  },
  {
   "cell_type": "code",
   "execution_count": null,
   "metadata": {
    "collapsed": false,
    "deletable": true,
    "editable": true
   },
   "outputs": [],
   "source": [
    "total_accross_states = count_per_state['count'].sum()\n",
    "count_per_state['percentage'] =  (count_per_state['count'] / total_accross_states) * 100"
   ]
  },
  {
   "cell_type": "code",
   "execution_count": null,
   "metadata": {
    "collapsed": true,
    "deletable": true,
    "editable": true
   },
   "outputs": [],
   "source": [
    "geo_path = './us-states.json'\n",
    "geo_str = json.dumps(json.load(open(geo_path, 'r')))\n",
    "m = folium.Map(location=[48, -102], zoom_start=3, tiles=\"Mapbox Bright\")\n",
    "m.choropleth(\n",
    "    geo_str=geo_str,\n",
    "    data=count_per_state,\n",
    "    columns=['state', 'percentage'],\n",
    "    key_on='feature.id',\n",
    "    fill_color='YlGnBu',\n",
    "    fill_opacity=0.7,\n",
    "    line_opacity=0.2,\n",
    "    legend_name='Percentage of the total companies in every state'\n",
    ")\n",
    "m\n"
   ]
  },
  {
   "cell_type": "code",
   "execution_count": null,
   "metadata": {
    "collapsed": false,
    "deletable": true,
    "editable": true,
    "scrolled": true
   },
   "outputs": [],
   "source": [
    "new_business_df_1.head(10)"
   ]
  },
  {
   "cell_type": "code",
   "execution_count": null,
   "metadata": {
    "collapsed": true,
    "deletable": true,
    "editable": true
   },
   "outputs": [],
   "source": [
    "query2 = \"\"\"\n",
    "SELECT a.category_code,\n",
    "       count(a.category_code) count \n",
    "FROM new_business_df_1 a \n",
    "where a.category_code is not null\n",
    "group by a.category_code\n",
    "order by a.category_code\n",
    "\"\"\""
   ]
  },
  {
   "cell_type": "code",
   "execution_count": null,
   "metadata": {
    "collapsed": true,
    "deletable": true,
    "editable": true
   },
   "outputs": [],
   "source": [
    "count_per_cat = pysqldf(query2)"
   ]
  },
  {
   "cell_type": "code",
   "execution_count": null,
   "metadata": {
    "collapsed": true,
    "deletable": true,
    "editable": true
   },
   "outputs": [],
   "source": [
    "total_accross_cat = count_per_cat['count'].sum()\n",
    "count_per_cat['percentage'] =  (count_per_cat['count'] / total_accross_cat) * 100"
   ]
  },
  {
   "cell_type": "code",
   "execution_count": null,
   "metadata": {
    "collapsed": false,
    "deletable": true,
    "editable": true
   },
   "outputs": [],
   "source": [
    "count_per_cat.sort_values(by=['percentage'], inplace=True)"
   ]
  },
  {
   "cell_type": "code",
   "execution_count": null,
   "metadata": {
    "collapsed": false,
    "deletable": true,
    "editable": true
   },
   "outputs": [],
   "source": [
    "cat_count_gt_1 = count_per_cat[count_per_cat['percentage']>=1.0]\n",
    "print (len(cat_count_gt_1))"
   ]
  },
  {
   "cell_type": "code",
   "execution_count": null,
   "metadata": {
    "collapsed": false,
    "deletable": true,
    "editable": true
   },
   "outputs": [],
   "source": [
    "new_business_df_1[new_business_df_1['category_code']== '54000000'].head()"
   ]
  },
  {
   "cell_type": "code",
   "execution_count": null,
   "metadata": {
    "collapsed": false,
    "deletable": true,
    "editable": true
   },
   "outputs": [],
   "source": [
    "def get_encoded_dict(column):\n",
    "    le = preprocessing.LabelEncoder()\n",
    "    col_unique = [x for x in column.unique().tolist()]\n",
    "    print(\"actual labels\", col_unique)\n",
    "    col_encoded = le.fit_transform(col_unique)\n",
    "    print(\"encoded labels\",col_encoded)\n",
    "    col_dict = {k:v for k,v in zip(col_unique, col_encoded)}\n",
    "    return col_dict"
   ]
  },
  {
   "cell_type": "code",
   "execution_count": null,
   "metadata": {
    "collapsed": false,
    "deletable": true,
    "editable": true
   },
   "outputs": [],
   "source": [
    "headcount_dict = get_encoded_dict(new_business_df_1['headcount'])\n",
    "new_business_df_1['headcount_enc'] = new_business_df_1[\"headcount\"].replace(headcount_dict)"
   ]
  },
  {
   "cell_type": "code",
   "execution_count": null,
   "metadata": {
    "collapsed": false,
    "deletable": true,
    "editable": true
   },
   "outputs": [],
   "source": [
    "revenue_dict = get_encoded_dict(new_business_df_1['revenue'])\n",
    "new_business_df_1['revenue_enc'] = new_business_df_1[\"revenue\"].replace(revenue_dict)"
   ]
  },
  {
   "cell_type": "code",
   "execution_count": null,
   "metadata": {
    "collapsed": false,
    "deletable": true,
    "editable": true
   },
   "outputs": [],
   "source": [
    "time_in_business_dict = get_encoded_dict(new_business_df_1['time_in_business'])\n",
    "new_business_df_1['time_in_business_enc'] = new_business_df_1[\"time_in_business\"].replace(time_in_business_dict)"
   ]
  },
  {
   "cell_type": "code",
   "execution_count": null,
   "metadata": {
    "collapsed": false,
    "deletable": true,
    "editable": true
   },
   "outputs": [],
   "source": [
    "fig = {\n",
    "    'data': [\n",
    "        {\n",
    "            'x': new_business_df_1['time_in_business_enc'],\n",
    "            'y': new_business_df_1['revenue_enc'],\n",
    "            'mode': 'markers',\n",
    "        } \n",
    "    ],\n",
    "    'layout': {\n",
    "        'xaxis': {'title': 'Time in Business', },\n",
    "        'yaxis': {'title': \"Revenue\"}\n",
    "    }\n",
    "}\n",
    "plotly.offline.iplot(fig)"
   ]
  },
  {
   "cell_type": "code",
   "execution_count": null,
   "metadata": {
    "collapsed": false,
    "deletable": true,
    "editable": true
   },
   "outputs": [],
   "source": [
    "import matplotlib.pyplot as plt\n",
    "fig, ax = plt.subplots()\n",
    "ax = new_business_df_1.plot.scatter(x='time_in_business_enc', y='revenue_enc');\n",
    "ax.set_xticklabels(ax.get_xticks());\n",
    "labels = [item.get_text() for item in ax.get_xticklabels()]\n",
    "labels[1:] = ['1-2 years','10+ years','3-5 years','6-10 years','Less than a year','nan']\n",
    "ax.set_xticklabels(labels, rotation='45');\n",
    "#plt.show()"
   ]
  },
  {
   "cell_type": "code",
   "execution_count": null,
   "metadata": {
    "collapsed": false,
    "deletable": true,
    "editable": true
   },
   "outputs": [],
   "source": [
    "fig, ax = plt.subplots();\n",
    "ax = new_business_df_1.plot.scatter(x='time_in_business_enc', y='revenue_enc');\n",
    "labels = [item.get_text() for item in ax.get_xticklabels()]\n",
    "labels[1:] = ['1-2 years','10+ years','3-5 years','6-10 years','Less than a year','nan']\n",
    "ax.set_xticklabels(labels, rotation='45')\n",
    "plt.show()"
   ]
  },
  {
   "cell_type": "code",
   "execution_count": null,
   "metadata": {
    "collapsed": false,
    "deletable": true,
    "editable": true
   },
   "outputs": [],
   "source": [
    "import pylab as plt\n",
    "x = new_business_df_1.time_in_business_enc\n",
    "y = new_business_df_1.revenue_enc\n",
    "labels = ['1-2 years','10+ years','3-5 years','6-10 years','Less than a year','nan']\n",
    "plt.plot(x,y, 'r')\n",
    "plt.xticks(x, labels, rotation='vertical')\n",
    "plt.show()"
   ]
  },
  {
   "cell_type": "code",
   "execution_count": null,
   "metadata": {
    "collapsed": true,
    "deletable": true,
    "editable": true
   },
   "outputs": [],
   "source": []
  },
  {
   "cell_type": "code",
   "execution_count": null,
   "metadata": {
    "collapsed": false,
    "deletable": true,
    "editable": true
   },
   "outputs": [],
   "source": [
    "new_slice = new_business_df[0:5].copy()"
   ]
  },
  {
   "cell_type": "code",
   "execution_count": null,
   "metadata": {
    "collapsed": false,
    "deletable": true,
    "editable": true
   },
   "outputs": [],
   "source": [
    "%%time\n",
    "new_slice['lat_long'] = new_slice['complete_address'].apply(lambda x: get_lat_long(x))"
   ]
  },
  {
   "cell_type": "code",
   "execution_count": null,
   "metadata": {
    "collapsed": false,
    "deletable": true,
    "editable": true
   },
   "outputs": [],
   "source": [
    "new_slice"
   ]
  },
  {
   "cell_type": "code",
   "execution_count": null,
   "metadata": {
    "collapsed": false,
    "deletable": true,
    "editable": true
   },
   "outputs": [],
   "source": [
    "new_business_df['lat_long'] = new_business_df[['state','zip']].\\\n",
    "                      apply(lambda x: x['state'] if(np.all(pd.notnull(x['state']))) \\\n",
    "                            else get_zip_code(x['state']), axis = 1)"
   ]
  },
  {
   "cell_type": "code",
   "execution_count": null,
   "metadata": {
    "collapsed": false,
    "deletable": true,
    "editable": true
   },
   "outputs": [],
   "source": [
    "geocode_result[0]['geometry']['location']"
   ]
  },
  {
   "cell_type": "code",
   "execution_count": null,
   "metadata": {
    "collapsed": true,
    "deletable": true,
    "editable": true
   },
   "outputs": [],
   "source": []
  },
  {
   "cell_type": "code",
   "execution_count": null,
   "metadata": {
    "collapsed": false,
    "deletable": true,
    "editable": true
   },
   "outputs": [],
   "source": [
    "ll = {'lat': 33.8311609, 'lng': -118.0497693}\n",
    "ll.values()"
   ]
  },
  {
   "cell_type": "code",
   "execution_count": null,
   "metadata": {
    "collapsed": false,
    "deletable": true,
    "editable": true
   },
   "outputs": [],
   "source": []
  },
  {
   "cell_type": "code",
   "execution_count": null,
   "metadata": {
    "collapsed": true,
    "deletable": true,
    "editable": true
   },
   "outputs": [],
   "source": [
    "add = '318 lynn ave, milpitas,'\n",
    "geocode_result = gmaps.geocode(add)\n",
    "loc_dict = geocode_result"
   ]
  },
  {
   "cell_type": "code",
   "execution_count": null,
   "metadata": {
    "collapsed": false,
    "deletable": true,
    "editable": true
   },
   "outputs": [],
   "source": [
    "geocode_result"
   ]
  },
  {
   "cell_type": "code",
   "execution_count": null,
   "metadata": {
    "collapsed": false,
    "deletable": true,
    "editable": true
   },
   "outputs": [],
   "source": []
  },
  {
   "cell_type": "code",
   "execution_count": null,
   "metadata": {
    "collapsed": false,
    "deletable": true,
    "editable": true
   },
   "outputs": [],
   "source": []
  },
  {
   "cell_type": "code",
   "execution_count": null,
   "metadata": {
    "collapsed": true,
    "deletable": true,
    "editable": true
   },
   "outputs": [],
   "source": []
  },
  {
   "cell_type": "code",
   "execution_count": null,
   "metadata": {
    "collapsed": true,
    "deletable": true,
    "editable": true
   },
   "outputs": [],
   "source": [
    "zipcode = search.by_zipcode(\"93035\")"
   ]
  },
  {
   "cell_type": "code",
   "execution_count": null,
   "metadata": {
    "collapsed": false,
    "deletable": true,
    "editable": true
   },
   "outputs": [],
   "source": [
    "zipcode['State']"
   ]
  },
  {
   "cell_type": "code",
   "execution_count": null,
   "metadata": {
    "collapsed": true,
    "deletable": true,
    "editable": true
   },
   "outputs": [],
   "source": []
  }
 ],
 "metadata": {
  "kernelspec": {
   "display_name": "Python 3",
   "language": "python",
   "name": "python3"
  },
  "language_info": {
   "codemirror_mode": {
    "name": "ipython",
    "version": 3
   },
   "file_extension": ".py",
   "mimetype": "text/x-python",
   "name": "python",
   "nbconvert_exporter": "python",
   "pygments_lexer": "ipython3",
   "version": "3.5.3"
  }
 },
 "nbformat": 4,
 "nbformat_minor": 2
}
